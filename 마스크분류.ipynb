{
 "cells": [
  {
   "cell_type": "code",
   "execution_count": null,
   "id": "ba5ccfd8-cf77-4311-b3de-15b711481b2b",
   "metadata": {},
   "outputs": [],
   "source": [
    "import pandas as pd\n",
    "import torch\n",
    "import numpy as np\n",
    "from torch.utils.data import Dataset, DataLoader\n",
    "import torchvision\n",
    "from torchvision import transforms , models\n",
    "from PIL import Image\n",
    "import torch.nn as nn\n",
    "import torch.nn.functional as f\n",
    "import torch.optim as optim\n",
    "import os\n",
    "from tqdm import tqdm"
   ]
  },
  {
   "cell_type": "markdown",
   "id": "9fd2f81a-fffc-4f8e-86e2-dbdd822f3782",
   "metadata": {
    "tags": []
   },
   "source": [
    "## 데이터 불러오기"
   ]
  },
  {
   "cell_type": "code",
   "execution_count": null,
   "id": "9e6edc97-eb42-4356-862c-bd3f67b8d28c",
   "metadata": {},
   "outputs": [],
   "source": [
    "train = pd.read_csv('./input/data/train/train.csv')"
   ]
  },
  {
   "cell_type": "markdown",
   "id": "3abd075c-4c42-4119-809e-3a9952cb55df",
   "metadata": {
    "tags": []
   },
   "source": [
    "## EDA"
   ]
  },
  {
   "cell_type": "code",
   "execution_count": null,
   "id": "1125c1a7-d059-4bba-a68f-87b998cf2e3d",
   "metadata": {},
   "outputs": [],
   "source": [
    "train['gender'].value_counts()"
   ]
  },
  {
   "cell_type": "code",
   "execution_count": null,
   "id": "cc13256a-8922-49f3-a8dc-08e480e1e52a",
   "metadata": {},
   "outputs": [],
   "source": [
    "train['age'].value_counts()"
   ]
  },
  {
   "cell_type": "code",
   "execution_count": null,
   "id": "547b5bc7-0387-4b92-a4fa-edefca1445d7",
   "metadata": {},
   "outputs": [],
   "source": [
    "gender_group=train.groupby(train['gender'])\n",
    "pd.set_option('display.max_rows',None)\n",
    "gender_group['age'].value_counts()"
   ]
  },
  {
   "cell_type": "code",
   "execution_count": null,
   "id": "b676f5c0-39ba-4984-b307-75d9cd0d4b16",
   "metadata": {},
   "outputs": [],
   "source": [
    "condition=[(train.age<30), (train.age>=30) & (train.age <60) , (train.age >=60)]\n",
    "choice=['~29','30~59','60~']\n",
    "train['age2']=np.select(condition, choice)\n",
    "train"
   ]
  },
  {
   "cell_type": "code",
   "execution_count": null,
   "id": "6711bf7f-433b-4595-92de-8cb797359bb1",
   "metadata": {},
   "outputs": [],
   "source": [
    "train.age2.value_counts()"
   ]
  },
  {
   "cell_type": "code",
   "execution_count": null,
   "id": "98448169-1226-4998-bf97-845385dd1f4b",
   "metadata": {},
   "outputs": [],
   "source": [
    "gender_group.age2.value_counts()"
   ]
  },
  {
   "cell_type": "markdown",
   "id": "ff21b4da-47ba-4996-9f34-960fa542d8be",
   "metadata": {
    "tags": [],
    "toc-hr-collapsed": true
   },
   "source": [
    "## dataset / dataloader"
   ]
  },
  {
   "cell_type": "markdown",
   "id": "e04739c0-ff1e-4e74-af85-c9e9f8942a12",
   "metadata": {
    "tags": []
   },
   "source": [
    "#### label 함수"
   ]
  },
  {
   "cell_type": "code",
   "execution_count": null,
   "id": "62bd783e-80c1-4a05-86cf-6fb9e1ed3649",
   "metadata": {},
   "outputs": [],
   "source": [
    "def label(gender,age,mask):\n",
    "    if mask == 'incorrect_mask':\n",
    "        if gender == 'male':\n",
    "            if age < 30:\n",
    "                return 6\n",
    "            elif age >=60:\n",
    "                return 8\n",
    "            else:\n",
    "                return 7\n",
    "        else:\n",
    "            if age < 30:\n",
    "                return 9\n",
    "            elif age >= 60:\n",
    "                return 11\n",
    "            else:\n",
    "                return 10\n",
    "    elif mask == 'normal':\n",
    "        if gender == 'male':\n",
    "            if age < 30:\n",
    "                return 12\n",
    "            elif age >= 60:\n",
    "                return 14\n",
    "            else:\n",
    "                return 13\n",
    "        else:\n",
    "            if age < 30:\n",
    "                return 15\n",
    "            elif age >= 60:\n",
    "                return 17\n",
    "            else:\n",
    "                return 16\n",
    "    else:\n",
    "        if gender == 'male':\n",
    "            if age < 30: \n",
    "                return 0\n",
    "            elif age >= 60:\n",
    "                return 2\n",
    "            else:\n",
    "                return 1\n",
    "        else:\n",
    "            if age < 30:\n",
    "                return 3\n",
    "            elif age >= 60:\n",
    "                return 5\n",
    "            else:\n",
    "                return 4"
   ]
  },
  {
   "cell_type": "markdown",
   "id": "5617b3c0-78c9-4fb3-802e-cdb0cf826f20",
   "metadata": {
    "tags": []
   },
   "source": [
    "#### dataset"
   ]
  },
  {
   "cell_type": "code",
   "execution_count": null,
   "id": "40dcfdef-f05f-49d0-bffd-aedf50fee4af",
   "metadata": {},
   "outputs": [],
   "source": [
    "class mydataset():\n",
    "    def __init__(self):\n",
    "        path=os.path.join(os.getcwd(),'input/data/train/images')\n",
    "        imagelist=[]\n",
    "        labellist=[]\n",
    "        for folder in os.listdir(path):\n",
    "            if folder.startswith('.'):\n",
    "                continue\n",
    "            id,gender,race,age = folder.split('_')\n",
    "            age = int(age)\n",
    "            for image in os.listdir(os.path.join(path, folder)):\n",
    "                if image.startswith('.'):\n",
    "                    continue\n",
    "                mask,ext=image.split('.')\n",
    "                imagelist.append(os.path.join(path,folder,image))\n",
    "                labellist.append(label(gender,age,mask))\n",
    "        self.imagelist=imagelist\n",
    "        self.labellist=labellist\n",
    "            \n",
    "\n",
    "    def __len__(self):\n",
    "        return len(self.imagelist)\n",
    "\n",
    "    def __getitem__(self,idx):\n",
    "        image_path = self.imagelist[idx]\n",
    "        image = Image.open(image_path)\n",
    "        transform = transforms.Compose([\n",
    "            transforms.ToTensor()])\n",
    "        image = transform(image)\n",
    "        label = self.labellist[idx]\n",
    "        return image,label"
   ]
  },
  {
   "cell_type": "code",
   "execution_count": null,
   "id": "6e030921-5fc2-4e50-8668-b07bfb98078f",
   "metadata": {},
   "outputs": [],
   "source": [
    "dataset=mydataset()\n",
    "split=torch.utils.data.random_split(dataset, [int(18900*0.8), int(18900*0.2)])\n",
    "trainset,valset = split[0],split[1]"
   ]
  },
  {
   "cell_type": "markdown",
   "id": "87c40aa1-5a13-4d2c-90b0-3cbfc47dd092",
   "metadata": {
    "tags": []
   },
   "source": [
    "#### dataloader"
   ]
  },
  {
   "cell_type": "code",
   "execution_count": null,
   "id": "f1b838d8-33b1-4b05-b157-d42f12aaf080",
   "metadata": {},
   "outputs": [],
   "source": [
    "train_loader = DataLoader(\n",
    "    trainset,\n",
    "    batch_size=256,\n",
    "    num_workers=0,\n",
    "    shuffle=True\n",
    ")\n",
    "\n",
    "val_loader = DataLoader(\n",
    "    valset,\n",
    "    batch_size=256,\n",
    "    num_workers=0,\n",
    "    shuffle=False\n",
    ")"
   ]
  },
  {
   "cell_type": "markdown",
   "id": "9469d443-4d49-4abd-a418-b8b6cc214dae",
   "metadata": {
    "tags": [],
    "toc-hr-collapsed": true
   },
   "source": [
    "## model"
   ]
  },
  {
   "cell_type": "code",
   "execution_count": null,
   "id": "72e4079f-b6dc-4cd4-b4c5-056467cba9ec",
   "metadata": {},
   "outputs": [],
   "source": [
    "class model(nn.Module):\n",
    "    def __init__(self):\n",
    "        super().__init__()\n",
    "        self.model = models.resnet18(pretrained=True)\n",
    "        for param in self.model.parameters():\n",
    "            param.requires_grad_(False)\n",
    "        self.model.fc=nn.Linear(512,18)\n",
    "                \n",
    "    def forward(self, dataset):\n",
    "        self.x=self.model(dataset)\n",
    "        return self.x"
   ]
  },
  {
   "cell_type": "code",
   "execution_count": null,
   "id": "5f7be2d8-f4a2-4f3a-a965-f92b6a9bf9e3",
   "metadata": {},
   "outputs": [],
   "source": [
    "model=model()\n",
    "device = torch.device('cuda')\n",
    "model.to(device)"
   ]
  },
  {
   "cell_type": "markdown",
   "id": "66644af6-4af8-4ccf-b10e-f192fe84785d",
   "metadata": {
    "tags": []
   },
   "source": [
    "#### loss , optimizer"
   ]
  },
  {
   "cell_type": "code",
   "execution_count": null,
   "id": "78ddafcc-f233-446e-b605-0605d6285c28",
   "metadata": {},
   "outputs": [],
   "source": [
    "criterion = nn.CrossEntropyLoss()\n",
    "optimizer = optim.SGD(model.parameters(), lr = 0.01)"
   ]
  },
  {
   "cell_type": "markdown",
   "id": "aeaad355-2bf3-4a7a-b034-70edb8a1d532",
   "metadata": {
    "jp-MarkdownHeadingCollapsed": true,
    "tags": [],
    "toc-hr-collapsed": true
   },
   "source": [
    "## train / validation"
   ]
  },
  {
   "cell_type": "markdown",
   "id": "e1d960f4-9943-4922-9041-92c5cfe89d44",
   "metadata": {},
   "source": [
    "#### train"
   ]
  },
  {
   "cell_type": "code",
   "execution_count": null,
   "id": "bf4213b7-f681-4e87-8f41-b48af5141226",
   "metadata": {},
   "outputs": [],
   "source": [
    "epochs=\n",
    "batch_size=\n",
    "acc = 0\n",
    "model.train()\n",
    "for epoch in range(epochs):\n",
    "    running_loss = 0.0\n",
    "    correct = 0\n",
    "    for i, data in tqdm(enumerate(train_loader)):\n",
    "        inputs, labels = data\n",
    "        inputs, labels = inputs.cuda() , labels.cuda()\n",
    "        optimizer.zero_grad()\n",
    "        outputs = model(inputs)\n",
    "        preds = torch.argmax(outputs, dim=-1)\n",
    "        correct += (preds==labels).sum().item()\n",
    "        loss = criterion(outputs, labels)\n",
    "        loss.backward()\n",
    "        optimizer.step()\n",
    "        running_loss += loss.data\n",
    "    print('[%d, %d] loss: %.3f' %\n",
    "      (epoch + 1, i + 1, running_loss / (len(trainset)/batch_size+1)))\n",
    "    running_loss = 0.0\n",
    "    print(correct / len(trainset)*100)\n",
    "    \n",
    "    # 저장\n",
    "    if acc < correct / len(trainset)*100:\n",
    "        acc = correct / len(trainset)*100\n",
    "        torch.save(model.state_dict(), os.path.join(os.getcwd(),f'save/epoch{epoch}.pth'))\n",
    "\n",
    "print('Finished Training')"
   ]
  },
  {
   "cell_type": "markdown",
   "id": "0d152883-3bd0-41a7-8c5a-21ce1f6ee0d1",
   "metadata": {},
   "source": [
    "#### validation"
   ]
  },
  {
   "cell_type": "code",
   "execution_count": null,
   "id": "a39f4b6d-029a-4bf4-a5f3-71836bb06268",
   "metadata": {},
   "outputs": [],
   "source": [
    "path=\n",
    "with torch.no_grad():\n",
    "    model=model()\n",
    "    model.to(device)\n",
    "    model.load_state_dict(torch.load(path))\n",
    "    model.eval()\n",
    "    for val_batch in tqdm(val_loader):\n",
    "        inputs, labels = val_batch\n",
    "        inputs = inputs.to(device)\n",
    "        labels = labels.to(device)\n",
    "        outputs = model(inputs)\n",
    "        preds = torch.argmax(outputs, dim=-1)\n",
    "        correct += (preds==labels).sum().item()\n",
    "    print(correct / len(valset)*100)"
   ]
  }
 ],
 "metadata": {
  "kernelspec": {
   "display_name": "Python 3",
   "language": "python",
   "name": "python3"
  },
  "language_info": {
   "codemirror_mode": {
    "name": "ipython",
    "version": 3
   },
   "file_extension": ".py",
   "mimetype": "text/x-python",
   "name": "python",
   "nbconvert_exporter": "python",
   "pygments_lexer": "ipython3",
   "version": "3.8.5"
  }
 },
 "nbformat": 4,
 "nbformat_minor": 5
}
