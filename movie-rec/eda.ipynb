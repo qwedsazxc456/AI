{
 "cells": [
  {
   "cell_type": "code",
   "execution_count": 49,
   "metadata": {},
   "outputs": [],
   "source": [
    "import pandas as pd\n",
    "import os\n",
    "import matplotlib as mpl\n",
    "import matplotlib.pyplot as plt\n",
    "import numpy as np\n",
    "import seaborn as sns"
   ]
  },
  {
   "cell_type": "code",
   "execution_count": 34,
   "metadata": {},
   "outputs": [],
   "source": [
    "path = './input/data/train/'\n",
    "train = pd.read_csv(os.path.join(path+'train_ratings.csv'))\n",
    "df = pd.DataFrame(train)"
   ]
  },
  {
   "cell_type": "code",
   "execution_count": 41,
   "metadata": {},
   "outputs": [],
   "source": [
    "g_user = df.groupby('user')\n",
    "g_user1 = g_user.size()[(g_user.size()<500)&(g_user.size()>50)]\n",
    "# g_user[0]\n",
    "\n",
    "# g_user.size()<500"
   ]
  },
  {
   "cell_type": "code",
   "execution_count": 25,
   "metadata": {},
   "outputs": [
    {
     "data": {
      "text/plain": [
       "(array([1.000e+00, 1.000e+00, 1.000e+00, 0.000e+00, 1.000e+00, 1.000e+00,\n",
       "        3.000e+00, 1.200e+01, 2.100e+01, 6.200e+01, 8.340e+02, 1.037e+03,\n",
       "        1.005e+03, 9.300e+02, 8.790e+02, 8.380e+02, 8.040e+02, 7.300e+02,\n",
       "        7.540e+02, 4.460e+02, 6.690e+02, 6.270e+02, 6.270e+02, 5.900e+02,\n",
       "        5.860e+02, 5.550e+02, 5.490e+02, 5.890e+02, 3.250e+02, 4.720e+02,\n",
       "        5.190e+02, 4.420e+02, 4.420e+02, 4.070e+02, 4.310e+02, 3.780e+02,\n",
       "        3.670e+02, 3.670e+02, 2.440e+02, 3.390e+02, 3.260e+02, 3.390e+02,\n",
       "        3.060e+02, 2.890e+02, 2.960e+02, 3.000e+02, 3.000e+02, 2.640e+02,\n",
       "        2.000e+02, 2.720e+02, 2.680e+02, 2.530e+02, 2.220e+02, 2.050e+02,\n",
       "        2.220e+02, 2.270e+02, 2.080e+02, 1.280e+02, 1.840e+02, 2.080e+02,\n",
       "        2.070e+02, 1.770e+02, 1.680e+02, 1.800e+02, 1.560e+02, 1.840e+02,\n",
       "        1.660e+02, 9.000e+01, 1.420e+02, 1.600e+02, 1.360e+02, 1.480e+02,\n",
       "        1.380e+02, 1.510e+02, 1.480e+02, 1.210e+02, 9.800e+01, 1.060e+02,\n",
       "        1.290e+02, 1.180e+02, 1.170e+02, 1.130e+02, 1.120e+02, 1.040e+02,\n",
       "        1.180e+02, 1.050e+02, 6.700e+01, 1.080e+02, 9.800e+01, 1.010e+02,\n",
       "        8.200e+01, 7.000e+01, 1.010e+02, 7.600e+01, 7.400e+01, 8.300e+01,\n",
       "        5.100e+01, 9.000e+01, 7.200e+01, 6.800e+01, 6.600e+01, 7.300e+01,\n",
       "        5.900e+01, 4.000e+01, 5.600e+01, 4.200e+01, 6.800e+01, 6.300e+01,\n",
       "        6.000e+01, 5.300e+01, 5.300e+01, 4.900e+01, 5.400e+01, 4.500e+01,\n",
       "        5.900e+01, 4.000e+01, 6.100e+01, 5.500e+01, 5.100e+01, 5.100e+01,\n",
       "        4.600e+01, 5.500e+01, 4.300e+01, 4.200e+01, 3.000e+01, 3.400e+01,\n",
       "        4.400e+01, 5.500e+01, 4.600e+01, 4.900e+01, 5.400e+01, 3.600e+01,\n",
       "        3.700e+01, 3.400e+01, 2.500e+01, 3.600e+01, 4.400e+01, 3.700e+01,\n",
       "        2.800e+01, 3.800e+01, 3.600e+01, 2.400e+01, 2.500e+01, 2.700e+01,\n",
       "        1.500e+01, 2.800e+01, 1.900e+01, 2.400e+01, 2.700e+01, 2.100e+01,\n",
       "        2.900e+01, 2.200e+01, 2.100e+01, 1.600e+01, 2.400e+01, 2.200e+01,\n",
       "        3.200e+01, 2.100e+01, 1.500e+01, 2.100e+01, 2.300e+01, 1.900e+01,\n",
       "        3.300e+01, 1.900e+01, 2.000e+01, 1.800e+01, 2.100e+01, 1.800e+01,\n",
       "        1.700e+01, 1.800e+01, 1.500e+01, 1.100e+01, 2.100e+01, 1.800e+01,\n",
       "        2.100e+01, 2.100e+01, 1.600e+01, 1.000e+01, 1.400e+01, 1.600e+01,\n",
       "        1.800e+01, 1.700e+01, 5.000e+00, 1.400e+01, 1.500e+01, 1.500e+01,\n",
       "        1.800e+01, 1.500e+01, 6.000e+00, 1.100e+01, 1.900e+01, 1.400e+01,\n",
       "        6.000e+00, 1.200e+01, 1.100e+01, 1.800e+01, 1.500e+01, 2.000e+01,\n",
       "        1.400e+01, 1.800e+01, 1.000e+01, 4.000e+00, 1.000e+01, 1.000e+01,\n",
       "        1.000e+01, 7.000e+00, 1.200e+01, 1.400e+01, 1.100e+01, 9.000e+00,\n",
       "        9.000e+00, 6.000e+00, 9.000e+00, 8.000e+00, 1.200e+01, 5.000e+00,\n",
       "        1.000e+01, 8.000e+00, 8.000e+00, 7.000e+00, 4.000e+00, 2.000e+00,\n",
       "        1.100e+01, 8.000e+00, 9.000e+00, 6.000e+00, 4.000e+00, 2.000e+00,\n",
       "        9.000e+00, 7.000e+00, 4.000e+00, 3.000e+00, 6.000e+00, 4.000e+00,\n",
       "        4.000e+00, 1.000e+01, 7.000e+00, 8.000e+00, 1.100e+01, 7.000e+00,\n",
       "        3.000e+00, 5.000e+00, 2.000e+00, 4.000e+00, 4.000e+00, 5.000e+00,\n",
       "        5.000e+00, 9.000e+00, 4.000e+00, 5.000e+00, 5.000e+00, 7.000e+00,\n",
       "        6.000e+00, 3.000e+00, 5.000e+00, 2.000e+00, 7.000e+00, 7.000e+00,\n",
       "        4.000e+00, 3.000e+00, 6.000e+00, 4.000e+00, 3.000e+00, 7.000e+00,\n",
       "        4.000e+00, 4.000e+00, 4.000e+00, 2.000e+00, 6.000e+00, 2.000e+00,\n",
       "        5.000e+00, 4.000e+00, 2.000e+00, 3.000e+00, 2.000e+00, 7.000e+00,\n",
       "        4.000e+00, 3.000e+00, 3.000e+00, 1.000e+00, 4.000e+00, 3.000e+00,\n",
       "        2.000e+00, 2.000e+00, 6.000e+00, 2.000e+00, 2.000e+00, 2.000e+00,\n",
       "        0.000e+00, 3.000e+00, 3.000e+00, 0.000e+00, 2.000e+00, 1.000e+00,\n",
       "        7.000e+00, 0.000e+00, 1.000e+00, 1.000e+00, 1.000e+00, 1.000e+00,\n",
       "        2.000e+00, 1.000e+00, 2.000e+00, 0.000e+00, 1.000e+00, 2.000e+00,\n",
       "        2.000e+00, 0.000e+00, 3.000e+00, 3.000e+00, 1.000e+00, 2.000e+00,\n",
       "        3.000e+00, 4.000e+00, 2.000e+00, 1.000e+00, 5.000e+00, 0.000e+00,\n",
       "        3.000e+00, 3.000e+00, 2.000e+00, 1.000e+00, 2.000e+00, 2.000e+00,\n",
       "        0.000e+00, 3.000e+00, 0.000e+00, 1.000e+00, 3.000e+00, 3.000e+00,\n",
       "        1.000e+00, 3.000e+00, 0.000e+00, 1.000e+00, 2.000e+00, 1.000e+00,\n",
       "        0.000e+00, 0.000e+00, 0.000e+00, 1.000e+00, 0.000e+00, 1.000e+00,\n",
       "        0.000e+00, 1.000e+00, 0.000e+00, 1.000e+00, 2.000e+00, 3.000e+00,\n",
       "        0.000e+00, 0.000e+00, 0.000e+00, 1.000e+00, 1.000e+00, 1.000e+00,\n",
       "        0.000e+00, 2.000e+00, 2.000e+00, 0.000e+00, 4.000e+00, 0.000e+00,\n",
       "        1.000e+00, 0.000e+00, 2.000e+00, 1.000e+00, 1.000e+00, 1.000e+00,\n",
       "        1.000e+00, 2.000e+00, 0.000e+00, 1.000e+00, 1.000e+00, 0.000e+00,\n",
       "        2.000e+00, 1.000e+00, 0.000e+00, 0.000e+00, 1.000e+00, 0.000e+00,\n",
       "        0.000e+00, 1.000e+00, 2.000e+00, 1.000e+00, 1.000e+00, 1.000e+00,\n",
       "        1.000e+00, 2.000e+00, 1.000e+00, 1.000e+00, 2.000e+00, 0.000e+00,\n",
       "        0.000e+00, 1.000e+00, 0.000e+00, 0.000e+00, 1.000e+00, 1.000e+00,\n",
       "        2.000e+00, 1.000e+00, 1.000e+00, 0.000e+00, 2.000e+00, 1.000e+00,\n",
       "        1.000e+00, 0.000e+00, 1.000e+00, 0.000e+00, 1.000e+00, 1.000e+00,\n",
       "        0.000e+00, 1.000e+00, 1.000e+00, 3.000e+00, 1.000e+00, 0.000e+00,\n",
       "        0.000e+00, 1.000e+00, 1.000e+00, 0.000e+00, 0.000e+00, 0.000e+00,\n",
       "        1.000e+00, 0.000e+00, 1.000e+00, 0.000e+00, 0.000e+00, 0.000e+00,\n",
       "        1.000e+00, 2.000e+00, 1.000e+00, 1.000e+00, 0.000e+00, 0.000e+00,\n",
       "        0.000e+00, 0.000e+00, 1.000e+00, 0.000e+00, 0.000e+00, 0.000e+00,\n",
       "        2.000e+00, 0.000e+00, 0.000e+00, 0.000e+00, 0.000e+00, 0.000e+00,\n",
       "        0.000e+00, 0.000e+00, 0.000e+00, 0.000e+00, 1.000e+00, 0.000e+00,\n",
       "        0.000e+00, 0.000e+00, 0.000e+00, 0.000e+00, 0.000e+00, 1.000e+00,\n",
       "        1.000e+00, 0.000e+00, 0.000e+00, 0.000e+00, 0.000e+00, 0.000e+00,\n",
       "        0.000e+00, 0.000e+00, 0.000e+00, 1.000e+00, 0.000e+00, 0.000e+00,\n",
       "        0.000e+00, 0.000e+00, 1.000e+00, 0.000e+00, 0.000e+00, 0.000e+00,\n",
       "        0.000e+00, 0.000e+00, 0.000e+00, 0.000e+00, 0.000e+00, 1.000e+00,\n",
       "        0.000e+00, 0.000e+00, 0.000e+00, 0.000e+00, 0.000e+00, 0.000e+00,\n",
       "        1.000e+00, 1.000e+00, 0.000e+00, 0.000e+00, 0.000e+00, 0.000e+00,\n",
       "        0.000e+00, 0.000e+00, 0.000e+00, 0.000e+00, 0.000e+00, 0.000e+00,\n",
       "        0.000e+00, 0.000e+00, 0.000e+00, 0.000e+00, 0.000e+00, 1.000e+00,\n",
       "        1.000e+00, 0.000e+00, 0.000e+00, 0.000e+00, 0.000e+00, 0.000e+00,\n",
       "        0.000e+00, 0.000e+00, 0.000e+00, 1.000e+00, 0.000e+00, 2.000e+00,\n",
       "        0.000e+00, 0.000e+00, 2.000e+00, 0.000e+00, 0.000e+00, 1.000e+00,\n",
       "        0.000e+00, 0.000e+00, 1.000e+00, 0.000e+00, 0.000e+00, 1.000e+00,\n",
       "        0.000e+00, 0.000e+00, 0.000e+00, 0.000e+00, 0.000e+00, 0.000e+00,\n",
       "        0.000e+00, 0.000e+00, 1.000e+00, 0.000e+00, 0.000e+00, 0.000e+00,\n",
       "        0.000e+00, 0.000e+00, 0.000e+00, 1.000e+00, 0.000e+00, 0.000e+00,\n",
       "        0.000e+00, 1.000e+00, 0.000e+00, 0.000e+00, 0.000e+00, 0.000e+00,\n",
       "        0.000e+00, 0.000e+00, 0.000e+00, 0.000e+00, 1.000e+00, 0.000e+00,\n",
       "        0.000e+00, 0.000e+00, 0.000e+00, 0.000e+00, 1.000e+00, 0.000e+00,\n",
       "        0.000e+00, 0.000e+00, 0.000e+00, 0.000e+00, 0.000e+00, 0.000e+00,\n",
       "        0.000e+00, 0.000e+00, 1.000e+00, 0.000e+00, 0.000e+00, 0.000e+00,\n",
       "        0.000e+00, 0.000e+00, 0.000e+00, 0.000e+00, 0.000e+00, 0.000e+00,\n",
       "        0.000e+00, 0.000e+00, 0.000e+00, 0.000e+00, 0.000e+00, 0.000e+00,\n",
       "        0.000e+00, 0.000e+00, 0.000e+00, 0.000e+00, 0.000e+00, 0.000e+00,\n",
       "        0.000e+00, 0.000e+00, 0.000e+00, 0.000e+00, 0.000e+00, 0.000e+00,\n",
       "        0.000e+00, 0.000e+00, 2.000e+00, 0.000e+00, 0.000e+00, 0.000e+00,\n",
       "        0.000e+00, 0.000e+00, 0.000e+00, 0.000e+00, 0.000e+00, 0.000e+00,\n",
       "        0.000e+00, 0.000e+00, 1.000e+00, 0.000e+00, 0.000e+00, 0.000e+00,\n",
       "        0.000e+00, 0.000e+00, 0.000e+00, 0.000e+00, 0.000e+00, 0.000e+00,\n",
       "        0.000e+00, 0.000e+00, 1.000e+00, 0.000e+00, 0.000e+00, 0.000e+00,\n",
       "        1.000e+00, 0.000e+00, 0.000e+00, 0.000e+00, 0.000e+00, 0.000e+00,\n",
       "        0.000e+00, 0.000e+00, 0.000e+00, 0.000e+00, 0.000e+00, 0.000e+00,\n",
       "        0.000e+00, 0.000e+00, 0.000e+00, 0.000e+00, 0.000e+00, 0.000e+00,\n",
       "        0.000e+00, 0.000e+00, 0.000e+00, 0.000e+00, 0.000e+00, 0.000e+00,\n",
       "        0.000e+00, 0.000e+00, 0.000e+00, 0.000e+00, 0.000e+00, 0.000e+00,\n",
       "        0.000e+00, 0.000e+00, 0.000e+00, 0.000e+00, 0.000e+00, 0.000e+00,\n",
       "        0.000e+00, 0.000e+00, 0.000e+00, 0.000e+00, 0.000e+00, 0.000e+00,\n",
       "        0.000e+00, 0.000e+00, 0.000e+00, 0.000e+00, 0.000e+00, 0.000e+00,\n",
       "        1.000e+00, 0.000e+00, 0.000e+00, 0.000e+00, 0.000e+00, 0.000e+00,\n",
       "        0.000e+00, 0.000e+00, 0.000e+00, 0.000e+00, 0.000e+00, 0.000e+00,\n",
       "        0.000e+00, 0.000e+00, 0.000e+00, 0.000e+00, 0.000e+00, 0.000e+00,\n",
       "        0.000e+00, 0.000e+00, 0.000e+00, 0.000e+00, 0.000e+00, 0.000e+00,\n",
       "        0.000e+00, 0.000e+00, 0.000e+00, 0.000e+00, 0.000e+00, 0.000e+00,\n",
       "        0.000e+00, 0.000e+00, 0.000e+00, 0.000e+00, 0.000e+00, 0.000e+00,\n",
       "        0.000e+00, 0.000e+00, 0.000e+00, 0.000e+00, 0.000e+00, 0.000e+00,\n",
       "        0.000e+00, 0.000e+00, 0.000e+00, 0.000e+00, 0.000e+00, 0.000e+00,\n",
       "        0.000e+00, 0.000e+00, 0.000e+00, 0.000e+00, 0.000e+00, 0.000e+00,\n",
       "        0.000e+00, 0.000e+00, 0.000e+00, 0.000e+00, 0.000e+00, 0.000e+00,\n",
       "        0.000e+00, 0.000e+00, 0.000e+00, 0.000e+00, 0.000e+00, 0.000e+00,\n",
       "        0.000e+00, 0.000e+00, 0.000e+00, 0.000e+00, 0.000e+00, 0.000e+00,\n",
       "        0.000e+00, 0.000e+00, 0.000e+00, 0.000e+00, 0.000e+00, 0.000e+00,\n",
       "        0.000e+00, 0.000e+00, 0.000e+00, 0.000e+00, 0.000e+00, 0.000e+00,\n",
       "        0.000e+00, 0.000e+00, 0.000e+00, 0.000e+00, 0.000e+00, 0.000e+00,\n",
       "        0.000e+00, 0.000e+00, 0.000e+00, 0.000e+00, 0.000e+00, 0.000e+00,\n",
       "        0.000e+00, 0.000e+00, 0.000e+00, 0.000e+00, 0.000e+00, 0.000e+00,\n",
       "        0.000e+00, 0.000e+00, 0.000e+00, 0.000e+00, 0.000e+00, 0.000e+00,\n",
       "        0.000e+00, 0.000e+00, 0.000e+00, 0.000e+00, 0.000e+00, 0.000e+00,\n",
       "        0.000e+00, 0.000e+00, 0.000e+00, 0.000e+00, 0.000e+00, 0.000e+00,\n",
       "        0.000e+00, 0.000e+00, 0.000e+00, 0.000e+00, 0.000e+00, 0.000e+00,\n",
       "        0.000e+00, 0.000e+00, 0.000e+00, 0.000e+00, 0.000e+00, 0.000e+00,\n",
       "        0.000e+00, 0.000e+00, 0.000e+00, 0.000e+00, 0.000e+00, 0.000e+00,\n",
       "        0.000e+00, 0.000e+00, 0.000e+00, 0.000e+00, 0.000e+00, 0.000e+00,\n",
       "        0.000e+00, 0.000e+00, 0.000e+00, 0.000e+00, 0.000e+00, 0.000e+00,\n",
       "        0.000e+00, 0.000e+00, 0.000e+00, 0.000e+00, 0.000e+00, 0.000e+00,\n",
       "        0.000e+00, 0.000e+00, 0.000e+00, 0.000e+00, 0.000e+00, 0.000e+00,\n",
       "        0.000e+00, 0.000e+00, 0.000e+00, 0.000e+00, 0.000e+00, 0.000e+00,\n",
       "        0.000e+00, 0.000e+00, 0.000e+00, 0.000e+00, 0.000e+00, 0.000e+00,\n",
       "        0.000e+00, 0.000e+00, 0.000e+00, 0.000e+00, 0.000e+00, 0.000e+00,\n",
       "        0.000e+00, 0.000e+00, 0.000e+00, 0.000e+00, 0.000e+00, 0.000e+00,\n",
       "        0.000e+00, 0.000e+00, 0.000e+00, 0.000e+00, 0.000e+00, 0.000e+00,\n",
       "        0.000e+00, 0.000e+00, 0.000e+00, 0.000e+00, 0.000e+00, 0.000e+00,\n",
       "        0.000e+00, 0.000e+00, 0.000e+00, 0.000e+00, 0.000e+00, 0.000e+00,\n",
       "        0.000e+00, 0.000e+00, 0.000e+00, 0.000e+00, 0.000e+00, 0.000e+00,\n",
       "        0.000e+00, 0.000e+00, 0.000e+00, 0.000e+00, 0.000e+00, 0.000e+00,\n",
       "        0.000e+00, 0.000e+00, 0.000e+00, 0.000e+00, 0.000e+00, 0.000e+00,\n",
       "        0.000e+00, 0.000e+00, 0.000e+00, 0.000e+00, 0.000e+00, 0.000e+00,\n",
       "        0.000e+00, 0.000e+00, 0.000e+00, 0.000e+00, 0.000e+00, 0.000e+00,\n",
       "        0.000e+00, 0.000e+00, 0.000e+00, 0.000e+00, 0.000e+00, 0.000e+00,\n",
       "        0.000e+00, 0.000e+00, 0.000e+00, 0.000e+00, 0.000e+00, 0.000e+00,\n",
       "        0.000e+00, 0.000e+00, 0.000e+00, 0.000e+00, 0.000e+00, 0.000e+00,\n",
       "        0.000e+00, 0.000e+00, 0.000e+00, 0.000e+00, 0.000e+00, 0.000e+00,\n",
       "        0.000e+00, 0.000e+00, 0.000e+00, 0.000e+00, 0.000e+00, 0.000e+00,\n",
       "        0.000e+00, 0.000e+00, 0.000e+00, 0.000e+00, 0.000e+00, 0.000e+00,\n",
       "        0.000e+00, 0.000e+00, 0.000e+00, 0.000e+00, 0.000e+00, 0.000e+00,\n",
       "        0.000e+00, 0.000e+00, 0.000e+00, 0.000e+00, 0.000e+00, 0.000e+00,\n",
       "        0.000e+00, 0.000e+00, 0.000e+00, 0.000e+00, 0.000e+00, 0.000e+00,\n",
       "        0.000e+00, 0.000e+00, 0.000e+00, 0.000e+00, 0.000e+00, 0.000e+00,\n",
       "        0.000e+00, 0.000e+00, 0.000e+00, 0.000e+00, 0.000e+00, 0.000e+00,\n",
       "        0.000e+00, 0.000e+00, 0.000e+00, 0.000e+00, 0.000e+00, 0.000e+00,\n",
       "        0.000e+00, 0.000e+00, 0.000e+00, 0.000e+00, 0.000e+00, 0.000e+00,\n",
       "        0.000e+00, 0.000e+00, 0.000e+00, 0.000e+00, 0.000e+00, 0.000e+00,\n",
       "        0.000e+00, 0.000e+00, 0.000e+00, 1.000e+00]),\n",
       " array([  16.   ,   18.896,   21.792, ..., 2906.208, 2909.104, 2912.   ]),\n",
       " <BarContainer object of 1000 artists>)"
      ]
     },
     "execution_count": 25,
     "metadata": {},
     "output_type": "execute_result"
    },
    {
     "data": {
      "image/png": "[encoded data removed]",
      "text/plain": [
       "<Figure size 432x288 with 1 Axes>"
      ]
     },
     "metadata": {
      "needs_background": "light"
     },
     "output_type": "display_data"
    }
   ],
   "source": [
    "plt.hist(g_user.size(), bins = 1000)"
   ]
  },
  {
   "cell_type": "code",
   "execution_count": 26,
   "metadata": {},
   "outputs": [
    {
     "data": {
      "text/plain": [
       "{'whiskers': [<matplotlib.lines.Line2D at 0x7fc41ed04790>,\n",
       "  <matplotlib.lines.Line2D at 0x7fc41ed04a60>],\n",
       " 'caps': [<matplotlib.lines.Line2D at 0x7fc41ed04df0>,\n",
       "  <matplotlib.lines.Line2D at 0x7fc41ed16040>],\n",
       " 'boxes': [<matplotlib.lines.Line2D at 0x7fc41ed045e0>],\n",
       " 'medians': [<matplotlib.lines.Line2D at 0x7fc41ed16310>],\n",
       " 'fliers': [<matplotlib.lines.Line2D at 0x7fc41ed165e0>],\n",
       " 'means': []}"
      ]
     },
     "execution_count": 26,
     "metadata": {},
     "output_type": "execute_result"
    },
    {
     "data": {
      "image/png": "[encoded data removed]",
      "text/plain": [
       "<Figure size 432x288 with 1 Axes>"
      ]
     },
     "metadata": {
      "needs_background": "light"
     },
     "output_type": "display_data"
    }
   ],
   "source": [
    "plt.boxplot(g_user.size())"
   ]
  },
  {
   "cell_type": "code",
   "execution_count": 42,
   "metadata": {},
   "outputs": [
    {
     "data": {
      "text/plain": [
       "(array([10783.,  6099.,  3776.,  2473.,  1696.,  1112.,   839.,   647.,\n",
       "          428.,   341.]),\n",
       " array([ 51. ,  95.8, 140.6, 185.4, 230.2, 275. , 319.8, 364.6, 409.4,\n",
       "        454.2, 499. ]),\n",
       " <BarContainer object of 10 artists>)"
      ]
     },
     "execution_count": 42,
     "metadata": {},
     "output_type": "execute_result"
    },
    {
     "data": {
      "image/png": "[encoded data removed]",
      "text/plain": [
       "<Figure size 432x288 with 1 Axes>"
      ]
     },
     "metadata": {
      "needs_background": "light"
     },
     "output_type": "display_data"
    }
   ],
   "source": [
    "plt.hist(g_user1)"
   ]
  },
  {
   "cell_type": "code",
   "execution_count": 44,
   "metadata": {},
   "outputs": [
    {
     "data": {
      "text/plain": [
       "{'whiskers': [<matplotlib.lines.Line2D at 0x7fc418fce2e0>,\n",
       "  <matplotlib.lines.Line2D at 0x7fc418fce5b0>],\n",
       " 'caps': [<matplotlib.lines.Line2D at 0x7fc418fce880>,\n",
       "  <matplotlib.lines.Line2D at 0x7fc418fceb50>],\n",
       " 'boxes': [<matplotlib.lines.Line2D at 0x7fc418fc2fd0>],\n",
       " 'medians': [<matplotlib.lines.Line2D at 0x7fc418fcee20>],\n",
       " 'fliers': [<matplotlib.lines.Line2D at 0x7fc418fd9130>],\n",
       " 'means': []}"
      ]
     },
     "execution_count": 44,
     "metadata": {},
     "output_type": "execute_result"
    },
    {
     "data": {
      "image/png": "[encoded data removed]",
      "text/plain": [
       "<Figure size 432x288 with 1 Axes>"
      ]
     },
     "metadata": {
      "needs_background": "light"
     },
     "output_type": "display_data"
    }
   ],
   "source": [
    "plt.boxplot(g_user1)"
   ]
  },
  {
   "cell_type": "code",
   "execution_count": 45,
   "metadata": {},
   "outputs": [],
   "source": [
    "g_user2 = g_user.size()[(g_user.size()<500)&(g_user.size()>200)]"
   ]
  },
  {
   "cell_type": "code",
   "execution_count": 46,
   "metadata": {},
   "outputs": [
    {
     "data": {
      "text/plain": [
       "(array([1526., 1214.,  934.,  676.,  546.,  497.,  427.,  313.,  235.,\n",
       "         221.]),\n",
       " array([201. , 230.8, 260.6, 290.4, 320.2, 350. , 379.8, 409.6, 439.4,\n",
       "        469.2, 499. ]),\n",
       " <BarContainer object of 10 artists>)"
      ]
     },
     "execution_count": 46,
     "metadata": {},
     "output_type": "execute_result"
    },
    {
     "data": {
      "image/png": "[encoded data removed]",
      "text/plain": [
       "<Figure size 432x288 with 1 Axes>"
      ]
     },
     "metadata": {
      "needs_background": "light"
     },
     "output_type": "display_data"
    }
   ],
   "source": [
    "plt.hist(g_user2)"
   ]
  },
  {
   "cell_type": "code",
   "execution_count": 47,
   "metadata": {},
   "outputs": [
    {
     "data": {
      "text/plain": [
       "{'whiskers': [<matplotlib.lines.Line2D at 0x7fc418ef5d00>,\n",
       "  <matplotlib.lines.Line2D at 0x7fc418f0d2b0>],\n",
       " 'caps': [<matplotlib.lines.Line2D at 0x7fc418f0d580>,\n",
       "  <matplotlib.lines.Line2D at 0x7fc418f0d880>],\n",
       " 'boxes': [<matplotlib.lines.Line2D at 0x7fc418f00df0>],\n",
       " 'medians': [<matplotlib.lines.Line2D at 0x7fc418f0db50>],\n",
       " 'fliers': [<matplotlib.lines.Line2D at 0x7fc418f0de20>],\n",
       " 'means': []}"
      ]
     },
     "execution_count": 47,
     "metadata": {},
     "output_type": "execute_result"
    },
    {
     "data": {
      "image/png": "[encoded data removed]",
      "text/plain": [
       "<Figure size 432x288 with 1 Axes>"
      ]
     },
     "metadata": {
      "needs_background": "light"
     },
     "output_type": "display_data"
    }
   ],
   "source": [
    "plt.boxplot(g_user2)"
   ]
  },
  {
   "cell_type": "code",
   "execution_count": 50,
   "metadata": {},
   "outputs": [
    {
     "data": {
      "text/html": [
       "<div>\n",
       "<style scoped>\n",
       "    .dataframe tbody tr th:only-of-type {\n",
       "        vertical-align: middle;\n",
       "    }\n",
       "\n",
       "    .dataframe tbody tr th {\n",
       "        vertical-align: top;\n",
       "    }\n",
       "\n",
       "    .dataframe thead th {\n",
       "        text-align: right;\n",
       "    }\n",
       "</style>\n",
       "<table border=\"1\" class=\"dataframe\">\n",
       "  <thead>\n",
       "    <tr style=\"text-align: right;\">\n",
       "      <th></th>\n",
       "      <th>item</th>\n",
       "      <th>genre</th>\n",
       "    </tr>\n",
       "  </thead>\n",
       "  <tbody>\n",
       "    <tr>\n",
       "      <th>0</th>\n",
       "      <td>318</td>\n",
       "      <td>Crime</td>\n",
       "    </tr>\n",
       "    <tr>\n",
       "      <th>1</th>\n",
       "      <td>318</td>\n",
       "      <td>Drama</td>\n",
       "    </tr>\n",
       "    <tr>\n",
       "      <th>2</th>\n",
       "      <td>2571</td>\n",
       "      <td>Action</td>\n",
       "    </tr>\n",
       "    <tr>\n",
       "      <th>3</th>\n",
       "      <td>2571</td>\n",
       "      <td>Sci-Fi</td>\n",
       "    </tr>\n",
       "    <tr>\n",
       "      <th>4</th>\n",
       "      <td>2571</td>\n",
       "      <td>Thriller</td>\n",
       "    </tr>\n",
       "    <tr>\n",
       "      <th>...</th>\n",
       "      <td>...</td>\n",
       "      <td>...</td>\n",
       "    </tr>\n",
       "    <tr>\n",
       "      <th>15928</th>\n",
       "      <td>109850</td>\n",
       "      <td>Drama</td>\n",
       "    </tr>\n",
       "    <tr>\n",
       "      <th>15929</th>\n",
       "      <td>8605</td>\n",
       "      <td>Action</td>\n",
       "    </tr>\n",
       "    <tr>\n",
       "      <th>15930</th>\n",
       "      <td>8605</td>\n",
       "      <td>Comedy</td>\n",
       "    </tr>\n",
       "    <tr>\n",
       "      <th>15931</th>\n",
       "      <td>3689</td>\n",
       "      <td>Comedy</td>\n",
       "    </tr>\n",
       "    <tr>\n",
       "      <th>15932</th>\n",
       "      <td>8130</td>\n",
       "      <td>Documentary</td>\n",
       "    </tr>\n",
       "  </tbody>\n",
       "</table>\n",
       "<p>15933 rows × 2 columns</p>\n",
       "</div>"
      ],
      "text/plain": [
       "         item        genre\n",
       "0         318        Crime\n",
       "1         318        Drama\n",
       "2        2571       Action\n",
       "3        2571       Sci-Fi\n",
       "4        2571     Thriller\n",
       "...       ...          ...\n",
       "15928  109850        Drama\n",
       "15929    8605       Action\n",
       "15930    8605       Comedy\n",
       "15931    3689       Comedy\n",
       "15932    8130  Documentary\n",
       "\n",
       "[15933 rows x 2 columns]"
      ]
     },
     "execution_count": 50,
     "metadata": {},
     "output_type": "execute_result"
    }
   ],
   "source": [
    "genre_data = pd.read_csv(os.path.join(path, 'genres.tsv'), sep='\\t')\n",
    "genre_data"
   ]
  },
  {
   "cell_type": "code",
   "execution_count": null,
   "metadata": {},
   "outputs": [],
   "source": []
  }
 ],
 "metadata": {
  "interpreter": {
   "hash": "d4d1e4263499bec80672ea0156c357c1ee493ec2b1c70f0acce89fc37c4a6abe"
  },
  "kernelspec": {
   "display_name": "Python 3.8.5 ('base')",
   "language": "python",
   "name": "python3"
  },
  "language_info": {
   "codemirror_mode": {
    "name": "ipython",
    "version": 3
   },
   "file_extension": ".py",
   "mimetype": "text/x-python",
   "name": "python",
   "nbconvert_exporter": "python",
   "pygments_lexer": "ipython3",
   "version": "3.8.5"
  },
  "orig_nbformat": 4
 },
 "nbformat": 4,
 "nbformat_minor": 2
}
